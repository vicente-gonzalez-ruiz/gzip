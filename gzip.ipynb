{
 "cells": [
  {
   "cell_type": "markdown",
   "metadata": {
    "slideshow": {
     "slide_type": "slide"
    }
   },
   "source": [
    "# [GZIP](http://www.gzip.org)"
   ]
  },
  {
   "cell_type": "code",
   "execution_count": 1,
   "metadata": {},
   "outputs": [
    {
     "name": "stdout",
     "output_type": "stream",
     "text": [
      "make: se entra en el directorio '/home/vruiz/slides/01-Text_Compression/10-gzip/data'\n",
      "wget http://www.hpca.ual.es/~vruiz/images/lena.png\n",
      "--2018-01-09 17:27:39--  http://www.hpca.ual.es/~vruiz/images/lena.png\n",
      "Resolviendo www.hpca.ual.es (www.hpca.ual.es)... 150.214.150.42\n",
      "Conectando con www.hpca.ual.es (www.hpca.ual.es)[150.214.150.42]:80... conectado.\n",
      "Petición HTTP enviada, esperando respuesta... 200 OK\n",
      "Longitud: 512673 (501K) [image/png]\n",
      "Grabando a: “lena.png”\n",
      "\n",
      "lena.png            100%[===================>] 500,66K   866KB/s    in 0,6s    \n",
      "\n",
      "2018-01-09 17:27:40 (866 KB/s) - “lena.png” guardado [512673/512673]\n",
      "\n",
      "convert lena.png lena.ppm\n",
      "wget http://www.hpca.ual.es/~vruiz/images/boats.png\n",
      "--2018-01-09 17:27:41--  http://www.hpca.ual.es/~vruiz/images/boats.png\n",
      "Resolviendo www.hpca.ual.es (www.hpca.ual.es)... 150.214.150.42\n",
      "Conectando con www.hpca.ual.es (www.hpca.ual.es)[150.214.150.42]:80... conectado.\n",
      "Petición HTTP enviada, esperando respuesta... 200 OK\n",
      "Longitud: 203339 (199K) [image/png]\n",
      "Grabando a: “boats.png”\n",
      "\n",
      "boats.png           100%[===================>] 198,57K   589KB/s    in 0,3s    \n",
      "\n",
      "2018-01-09 17:27:41 (589 KB/s) - “boats.png” guardado [203339/203339]\n",
      "\n",
      "convert boats.png boats.pgm\n",
      "wget http://www.hpca.ual.es/~vruiz/images/peppers.png\n",
      "--2018-01-09 17:27:42--  http://www.hpca.ual.es/~vruiz/images/peppers.png\n",
      "Resolviendo www.hpca.ual.es (www.hpca.ual.es)... 150.214.150.42\n",
      "Conectando con www.hpca.ual.es (www.hpca.ual.es)[150.214.150.42]:80... conectado.\n",
      "Petición HTTP enviada, esperando respuesta... 200 OK\n",
      "Longitud: 519968 (508K) [image/png]\n",
      "Grabando a: “peppers.png”\n",
      "\n",
      "peppers.png         100%[===================>] 507,78K   847KB/s    in 0,6s    \n",
      "\n",
      "2018-01-09 17:27:42 (847 KB/s) - “peppers.png” guardado [519968/519968]\n",
      "\n",
      "convert peppers.png peppers.ppm\n",
      "wget http://www.hpca.ual.es/~vruiz/images/zelda.png\n",
      "--2018-01-09 17:27:43--  http://www.hpca.ual.es/~vruiz/images/zelda.png\n",
      "Resolviendo www.hpca.ual.es (www.hpca.ual.es)... 150.214.150.42\n",
      "Conectando con www.hpca.ual.es (www.hpca.ual.es)[150.214.150.42]:80... conectado.\n",
      "Petición HTTP enviada, esperando respuesta... 200 OK\n",
      "Longitud: 219800 (215K) [image/png]\n",
      "Grabando a: “zelda.png”\n",
      "\n",
      "zelda.png           100%[===================>] 214,65K   614KB/s    in 0,3s    \n",
      "\n",
      "2018-01-09 17:27:43 (614 KB/s) - “zelda.png” guardado [219800/219800]\n",
      "\n",
      "convert zelda.png zelda.pgm\n",
      "make: se sale del directorio '/home/vruiz/slides/01-Text_Compression/10-gzip/data'\n"
     ]
    }
   ],
   "source": [
    "!make -C data"
   ]
  },
  {
   "cell_type": "code",
   "execution_count": 32,
   "metadata": {},
   "outputs": [
    {
     "name": "stdout",
     "output_type": "stream",
     "text": [
      "    codec |     lena  peppers    boats    zelda  average\r\n",
      "----------+---------------------------------------------\r\n",
      " original |   786447  1572883   262159   262159   720912\r\n"
     ]
    }
   ],
   "source": [
    "lena = !wc -c < data/lena.ppm\n",
    "lena = lena[0]\n",
    "peppers = !wc -c < data/peppers.ppm\n",
    "peppers = peppers[0]\n",
    "boats = !wc -c < data/boats.pgm\n",
    "boats = boats[0]\n",
    "zelda = !wc -c < data/zelda.pgm\n",
    "zelda = zelda[0]\n",
    "average = int((int(lena) + int(peppers) + int(boats) + int(zelda))/4)\n",
    "\n",
    "import io\n",
    "with io.open('table.txt', 'w') as file:\n",
    "    file.write('    codec | {:>8} {:>8} {:>8} {:>8} {:>8}\\n'.format(\"lena\", \"peppers\", \"boats\", \"zelda\", \"average\"))\n",
    "    file.write('----------+---------------------------------------------\\n')\n",
    "    file.write(' original | {:>8} {:>8} {:>8} {:>8} {:>8}\\n'.format(lena, peppers, boats, zelda, average))\n",
    "    \n",
    "!cat table.txt"
   ]
  },
  {
   "cell_type": "code",
   "execution_count": 33,
   "metadata": {},
   "outputs": [
    {
     "name": "stdout",
     "output_type": "stream",
     "text": [
      "/tmp/lena.ppm:\t  6.8% -- replaced with /tmp/lena.ppm.gz\n"
     ]
    }
   ],
   "source": [
    "!cp data/lena.ppm /tmp\n",
    "!gzip -9 -f -v /tmp/lena.ppm\n",
    "lena = !wc -c < /tmp/lena.ppm.gz\n",
    "lena = lena[0]"
   ]
  },
  {
   "cell_type": "code",
   "execution_count": 34,
   "metadata": {},
   "outputs": [
    {
     "name": "stdout",
     "output_type": "stream",
     "text": [
      "/tmp/peppers.ppm:\t 86.0% -- replaced with /tmp/peppers.ppm.gz\n"
     ]
    }
   ],
   "source": [
    "!cp data/peppers.ppm /tmp\n",
    "!gzip -9 -f -v /tmp/peppers.ppm\n",
    "peppers = !wc -c < /tmp/peppers.ppm.gz\n",
    "peppers = peppers[0]"
   ]
  },
  {
   "cell_type": "code",
   "execution_count": 35,
   "metadata": {},
   "outputs": [
    {
     "name": "stdout",
     "output_type": "stream",
     "text": [
      "/tmp/boats.pgm:\t 22.8% -- replaced with /tmp/boats.pgm.gz\r\n"
     ]
    }
   ],
   "source": [
    "!cp data/boats.pgm /tmp\n",
    "!gzip -9 -f -v /tmp/boats.pgm\n",
    "boats = !wc -c < /tmp/boats.pgm.gz\n",
    "boats = boats[0]"
   ]
  },
  {
   "cell_type": "code",
   "execution_count": 36,
   "metadata": {},
   "outputs": [
    {
     "name": "stdout",
     "output_type": "stream",
     "text": [
      "/tmp/zelda.pgm:\t 16.5% -- replaced with /tmp/zelda.pgm.gz\n"
     ]
    }
   ],
   "source": [
    "!cp data/zelda.pgm /tmp\n",
    "!gzip -9 -f -v /tmp/zelda.pgm\n",
    "zelda = !wc -c < /tmp/zelda.pgm.gz\n",
    "zelda = zelda[0]"
   ]
  },
  {
   "cell_type": "code",
   "execution_count": 37,
   "metadata": {},
   "outputs": [],
   "source": [
    "average = int((int(lena) + int(peppers) + int(boats) + int(zelda))/4)"
   ]
  },
  {
   "cell_type": "code",
   "execution_count": 38,
   "metadata": {},
   "outputs": [],
   "source": [
    "import io\n",
    "with io.open('table.txt', 'a') as file:\n",
    "    file.write('     gzip | {:>8} {:>8} {:>8} {:>8} {:>8}\\n'.format(lena, peppers, boats, zelda, average))"
   ]
  },
  {
   "cell_type": "code",
   "execution_count": 39,
   "metadata": {},
   "outputs": [
    {
     "name": "stdout",
     "output_type": "stream",
     "text": [
      "    codec |     lena  peppers    boats    zelda  average\n",
      "----------+---------------------------------------------\n",
      " original |   786447  1572883   262159   262159   720912\n",
      "     gzip |   733130   219780   202499   218903   343578\n",
      "\n"
     ]
    }
   ],
   "source": [
    "with io.open('table.txt', 'r') as file:\n",
    "    print(file.read())"
   ]
  }
 ],
 "metadata": {
  "celltoolbar": "Slideshow",
  "kernelspec": {
   "display_name": "Python 3",
   "language": "python",
   "name": "python3"
  },
  "language_info": {
   "codemirror_mode": {
    "name": "ipython",
    "version": 3
   },
   "file_extension": ".py",
   "mimetype": "text/x-python",
   "name": "python",
   "nbconvert_exporter": "python",
   "pygments_lexer": "ipython3",
   "version": "3.6.4"
  }
 },
 "nbformat": 4,
 "nbformat_minor": 2
}
