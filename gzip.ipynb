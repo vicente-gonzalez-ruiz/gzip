{
 "cells": [
  {
   "cell_type": "markdown",
   "metadata": {
    "slideshow": {
     "slide_type": "slide"
    }
   },
   "source": [
    "# [GZIP](http://www.gzip.org)\n",
    "\n",
    "* `gzip` (GNU zip) is a open-source text compressor, written by Mark Adler and Jean-loup Gailly.\n",
    "\n",
    "* Described in [RFC 1951](https://www.ietf.org/rfc/rfc1951.txt) and [RFC 1952](https://www.ietf.org/rfc/rfc1952.txt).\n",
    "\n",
    "* Implements DEFLATE algorithm created by Phil Katz."
   ]
  },
  {
   "cell_type": "markdown",
   "metadata": {
    "slideshow": {
     "slide_type": "slide"
    }
   },
   "source": [
    "### [DEFLATE algorithm](https://en.wikipedia.org/wiki/DEFLATE)\n",
    "\n",
    "1. Divide the input into blocks.\n",
    "2. LZ77 encode each block.\n",
    "3. Compute a Huffman tree for the offsets.\n",
    "4. Huffman encode the Huffman tree using a static probabilistic model.\n",
    "3. Huffman encode each block using an adaptive probabilistic model."
   ]
  },
  {
   "cell_type": "markdown",
   "metadata": {
    "slideshow": {
     "slide_type": "slide"
    }
   },
   "source": [
    "### Lab"
   ]
  },
  {
   "cell_type": "code",
   "execution_count": 2,
   "metadata": {},
   "outputs": [
    {
     "name": "stdout",
     "output_type": "stream",
     "text": [
      "make: Nothing to be done for `default'.\r\n"
     ]
    }
   ],
   "source": [
    "!make -C data"
   ]
  },
  {
   "cell_type": "code",
   "execution_count": 3,
   "metadata": {},
   "outputs": [
    {
     "name": "stdout",
     "output_type": "stream",
     "text": [
      "/tmp/lena.ppm:\t    6.6% -- replaced with /tmp/lena.ppm.gz\r\n"
     ]
    }
   ],
   "source": [
    "!cp data/lena.ppm /tmp\n",
    "!gzip -9 -f -v /tmp/lena.ppm\n",
    "lena = !wc -c < /tmp/lena.ppm.gz\n",
    "lena = lena[0]"
   ]
  },
  {
   "cell_type": "code",
   "execution_count": 4,
   "metadata": {},
   "outputs": [
    {
     "name": "stdout",
     "output_type": "stream",
     "text": [
      "/tmp/peppers.ppm:\t   86.0% -- replaced with /tmp/peppers.ppm.gz\r\n"
     ]
    }
   ],
   "source": [
    "!cp data/peppers.ppm /tmp\n",
    "!gzip -9 -f -v /tmp/peppers.ppm\n",
    "peppers = !wc -c < /tmp/peppers.ppm.gz\n",
    "peppers = peppers[0]"
   ]
  },
  {
   "cell_type": "code",
   "execution_count": 5,
   "metadata": {},
   "outputs": [
    {
     "name": "stdout",
     "output_type": "stream",
     "text": [
      "/tmp/boats.pgm:\t   23.4% -- replaced with /tmp/boats.pgm.gz\r\n"
     ]
    }
   ],
   "source": [
    "!cp data/boats.pgm /tmp\n",
    "!gzip -9 -f -v /tmp/boats.pgm\n",
    "boats = !wc -c < /tmp/boats.pgm.gz\n",
    "boats = boats[0]"
   ]
  },
  {
   "cell_type": "code",
   "execution_count": 6,
   "metadata": {},
   "outputs": [
    {
     "name": "stdout",
     "output_type": "stream",
     "text": [
      "/tmp/zelda.pgm:\t   16.7% -- replaced with /tmp/zelda.pgm.gz\r\n"
     ]
    }
   ],
   "source": [
    "!cp data/zelda.pgm /tmp\n",
    "!gzip -9 -f -v /tmp/zelda.pgm\n",
    "zelda = !wc -c < /tmp/zelda.pgm.gz\n",
    "zelda = zelda[0]"
   ]
  },
  {
   "cell_type": "code",
   "execution_count": 7,
   "metadata": {},
   "outputs": [],
   "source": [
    "average = int((int(lena) + int(peppers) + int(boats) + int(zelda))/4)"
   ]
  },
  {
   "cell_type": "code",
   "execution_count": 8,
   "metadata": {},
   "outputs": [],
   "source": [
    "import io\n",
    "with io.open('../table.txt', 'a') as file:\n",
    "    file.write('     gzip |{:8}{:8}{:8}{:8}{:8}\\n'.format(lena, peppers, boats, zelda, average))"
   ]
  },
  {
   "cell_type": "code",
   "execution_count": 9,
   "metadata": {},
   "outputs": [
    {
     "name": "stdout",
     "output_type": "stream",
     "text": [
      "    codec |    lena peppers   boats   zelda average\n",
      "----------+----------------------------------------\n",
      " original |  786447 1572883  262159  262159  720912\n",
      "     gzip |  733836  219854  200670  218198  343139\n",
      "\n"
     ]
    }
   ],
   "source": [
    "with io.open('../table.txt', 'r') as file:\n",
    "    print(file.read())"
   ]
  }
 ],
 "metadata": {
  "celltoolbar": "Slideshow",
  "kernelspec": {
   "display_name": "Python 3",
   "language": "python",
   "name": "python3"
  },
  "language_info": {
   "codemirror_mode": {
    "name": "ipython",
    "version": 3
   },
   "file_extension": ".py",
   "mimetype": "text/x-python",
   "name": "python",
   "nbconvert_exporter": "python",
   "pygments_lexer": "ipython3",
   "version": "3.6.1"
  }
 },
 "nbformat": 4,
 "nbformat_minor": 2
}
